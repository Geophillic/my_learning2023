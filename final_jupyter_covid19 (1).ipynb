{
 "cells": [
  {
   "cell_type": "markdown",
   "metadata": {},
   "source": [
    "<center>\n",
    "<img src=\"https://cf-courses-data.s3.us.cloud-object-storage.appdomain.cloud/IBMDeveloperSkillsNetwork-RP0101EN-Coursera/v2/M5_Final/images/SN_web_lightmode.png\" width=\"300\">\n",
    "</center>\n"
   ]
  },
  {
   "cell_type": "markdown",
   "metadata": {},
   "source": [
    "<h1>Analysis of Global COVID-19 Pandemic Data</h1>\n",
    "\n",
    "Estimated time needed: **90** minutes\n",
    "\n"
   ]
  },
  {
   "cell_type": "markdown",
   "metadata": {},
   "source": [
    "## Overview:\n",
    "\n",
    "There are 10 tasks in this final project. All tasks will be graded by your peers who are also completing this assignment within the same session.\n",
    "\n",
    "You need to submit the following the screenshot for the code and output for each task for review.\n",
    "\n",
    "If you need to refresh your memories about specific coding details, you may refer to previous hands-on labs for code examples.\n"
   ]
  },
  {
   "cell_type": "code",
   "execution_count": 1,
   "metadata": {},
   "outputs": [
    {
     "name": "stderr",
     "output_type": "stream",
     "text": [
      "Updating HTML index of packages in '.Library'\n",
      "Making 'packages.html' ... done\n",
      "also installing the dependencies ‘cli’, ‘lifecycle’, ‘rlang’\n",
      "\n",
      "Updating HTML index of packages in '.Library'\n",
      "Making 'packages.html' ... done\n"
     ]
    }
   ],
   "source": [
    "# If you are working on your local Jupyter notebook, please uncomment the below code and install the packages\n",
    "\n",
    "install.packages(\"httr\")\n",
    "install.packages(\"rvest\")"
   ]
  },
  {
   "cell_type": "code",
   "execution_count": 1,
   "metadata": {},
   "outputs": [
    {
     "name": "stderr",
     "output_type": "stream",
     "text": [
      "Loading required package: xml2\n"
     ]
    }
   ],
   "source": [
    "#require(\"httr\")\n",
    "#require(\"rvest\")\n",
    "\n",
    "library(httr)\n",
    "library(rvest)"
   ]
  },
  {
   "cell_type": "markdown",
   "metadata": {},
   "source": [
    "Note: if you can import above libraries, please use install.packages() to install them first.\n"
   ]
  },
  {
   "cell_type": "markdown",
   "metadata": {},
   "source": [
    "## TASK 1: Get a `COVID-19 pandemic` Wiki page using HTTP request\n"
   ]
  },
  {
   "cell_type": "markdown",
   "metadata": {},
   "source": [
    "First, let's write a function to use HTTP request to get a public COVID-19 Wiki page.\n",
    "\n",
    "Before you write the function, you can open this public page from this \n",
    "\n",
    "URL https://en.wikipedia.org/w/index.php?title=Template:COVID-19_testing_by_country using a web browser.\n",
    "\n",
    "The goal of task 1 is to get the html page using HTTP request (`httr` library)\n"
   ]
  },
  {
   "cell_type": "code",
   "execution_count": 66,
   "metadata": {},
   "outputs": [],
   "source": [
    "\n",
    "get_wiki_covid19_page <- function() {\n",
    "    \n",
    "  # Our target COVID-19 wiki page URL is: https://en.wikipedia.org/w/index.php?title=Template:COVID-19_testing_by_country  \n",
    "  # Which has two parts: \n",
    "    # 1) base URL `https://en.wikipedia.org/w/index.php  \n",
    "    # 2) URL parameter: `title=Template:COVID-19_testing_by_country`, seperated by question mark ?\n",
    "    \n",
    "  # Wiki page base\n",
    "  wiki_base_url <- \"https://en.wikipedia.org/w/index.php\"\n",
    "  # You will need to create a List which has an element called `title` to specify which page you want to get from Wiki\n",
    "  # in our case, it will be `Template:COVID-19_testing_by_country`\n",
    " \n",
    "  # - Use the `GET` function in httr library with a `url` argument and a `query` arugment to get a HTTP response\n",
    "    \n",
    "  # Use the `return` function to return the response\n",
    "    Cod = list(title='Template:COVID-19_testing_by_country')\n",
    "response= GET( wiki_base_url, query = Cod)\n",
    "return(response)\n",
    "\n",
    "}\n",
    "\n",
    "\n"
   ]
  },
  {
   "cell_type": "markdown",
   "metadata": {},
   "source": [
    "Call the `get_wiki_covid19_page` function to get a http response with the target html page\n"
   ]
  },
  {
   "cell_type": "code",
   "execution_count": 67,
   "metadata": {},
   "outputs": [
    {
     "data": {
      "text/plain": [
       "Response [https://en.wikipedia.org/w/index.php?title=Template%3ACOVID-19_testing_by_country]\n",
       "  Date: 2023-02-17 06:06\n",
       "  Status: 200\n",
       "  Content-Type: text/html; charset=UTF-8\n",
       "  Size: 425 kB\n",
       "<!DOCTYPE html>\n",
       "<html class=\"client-nojs vector-feature-language-in-header-enabled vector-fea...\n",
       "<head>\n",
       "<meta charset=\"UTF-8\"/>\n",
       "<title>Template:COVID-19 testing by country - Wikipedia</title>\n",
       "<script>document.documentElement.className=\"client-js vector-feature-language...\n",
       "\"wgCSPNonce\":false,\"wgCanonicalNamespace\":\"Template\",\"wgCanonicalSpecialPageN...\n",
       "\"CS1 Khmer-language sources (km)\",\"CS1 uses Chinese-language script (zh)\",\"CS...\n",
       "\"CS1 foreign language sources (ISO 639-2)\",\"CS1 Burmese-language sources (my)...\n",
       "\"pageLanguageCode\":\"en\",\"pageLanguageDir\":\"ltr\",\"pageVariantFallbacks\":\"en\"},...\n",
       "..."
      ]
     },
     "metadata": {},
     "output_type": "display_data"
    },
    {
     "name": "stdout",
     "output_type": "stream",
     "text": [
      "Response [https://en.wikipedia.org/w/index.php?title=Template%3ACOVID-19_testing_by_country]\n",
      "  Date: 2023-02-17 07:09\n",
      "  Status: 200\n",
      "  Content-Type: text/html; charset=UTF-8\n",
      "  Size: 425 kB\n",
      "<!DOCTYPE html>\n",
      "<html class=\"client-nojs vector-feature-language-in-header-enabled vector-fea...\n",
      "<head>\n",
      "<meta charset=\"UTF-8\"/>\n",
      "<title>Template:COVID-19 testing by country - Wikipedia</title>\n",
      "<script>document.documentElement.className=\"client-js vector-feature-language...\n",
      "\"wgCSPNonce\":false,\"wgCanonicalNamespace\":\"Template\",\"wgCanonicalSpecialPageN...\n",
      "\"CS1 Khmer-language sources (km)\",\"CS1 uses Chinese-language script (zh)\",\"CS...\n",
      "\"CS1 foreign language sources (ISO 639-2)\",\"CS1 Burmese-language sources (my)...\n",
      "\"pageLanguageCode\":\"en\",\"pageLanguageDir\":\"ltr\",\"pageVariantFallbacks\":\"en\"},...\n",
      "...\n"
     ]
    }
   ],
   "source": [
    "# Call the get_wiki_covid19_page function and print the response\n",
    "\n",
    "get_wiki_covid19_page()\n",
    "print(get_wiki_covid19_page())"
   ]
  },
  {
   "cell_type": "markdown",
   "metadata": {},
   "source": [
    "## TASK 2: Extract COVID-19 testing data table from the wiki HTML page\n"
   ]
  },
  {
   "cell_type": "markdown",
   "metadata": {},
   "source": [
    "On the COVID-19 testing wiki page, you should see a data table `<table>` node contains COVID-19 testing data by country on the page:\n",
    "\n",
    "<a href=\"https://cognitiveclass.ai/?utm_medium=Exinfluencer&utm_source=Exinfluencer&utm_content=000026UJ&utm_term=10006555&utm_id=NA-SkillsNetwork-Channel-SkillsNetworkCoursesIBMDeveloperSkillsNetworkRP0101ENCoursera889-2022-01-01\">\n",
    "    <img src=\"https://cf-courses-data.s3.us.cloud-object-storage.appdomain.cloud/IBMDeveloperSkillsNetwork-RP0101EN-Coursera/v2/M5_Final/images/covid-19-by-country.png\" width=\"400\" align=\"center\">\n",
    "</a>\n",
    "\n",
    "Note the numbers you actually see on your page may be different from above because it is still an on-going pandemic when creating this notebook.\n",
    "\n",
    "The goal of task 2 is to extract above data table and convert it into a data frame\n"
   ]
  },
  {
   "cell_type": "markdown",
   "metadata": {},
   "source": [
    "Now use the `read_html` function in rvest library to get the root html node from response\n"
   ]
  },
  {
   "cell_type": "code",
   "execution_count": 68,
   "metadata": {},
   "outputs": [
    {
     "data": {
      "text/plain": [
       "{html_document}\n",
       "<html class=\"client-nojs vector-feature-language-in-header-enabled vector-feature-language-in-main-page-header-disabled vector-feature-language-alert-in-sidebar-enabled vector-feature-sticky-header-disabled vector-feature-page-tools-disabled vector-feature-page-tools-pinned-disabled vector-feature-main-menu-pinned-disabled vector-feature-limited-width-enabled vector-feature-limited-width-content-enabled\" lang=\"en\" dir=\"ltr\">\n",
       "[1] <head>\\n<meta http-equiv=\"Content-Type\" content=\"text/html; charset=UTF-8 ...\n",
       "[2] <body class=\"skin-vector skin-vector-search-vue vector-toc-pinned mediawi ..."
      ]
     },
     "metadata": {},
     "output_type": "display_data"
    }
   ],
   "source": [
    "# Get the root html node from the http response in task 1 \n",
    "root_node = read_html(get_wiki_covid19_page())\n",
    "root_node"
   ]
  },
  {
   "cell_type": "markdown",
   "metadata": {
    "jupyter": {
     "source_hidden": true
    },
    "tags": []
   },
   "source": [
    "Get the tables in the HTML root node using `html_nodes` function.\n"
   ]
  },
  {
   "cell_type": "code",
   "execution_count": 69,
   "metadata": {},
   "outputs": [
    {
     "data": {
      "text/plain": [
       "{xml_nodeset (3)}\n",
       "[1] <table class=\"box-Update plainlinks ombox ombox-content ambox-Update\" rol ...\n",
       "[2] <table class=\"wikitable plainrowheaders sortable collapsible autocollapse ...\n",
       "[3] <table class=\"plainlinks ombox mbox-small ombox-notice\" role=\"presentatio ..."
      ]
     },
     "metadata": {},
     "output_type": "display_data"
    }
   ],
   "source": [
    "# Get the table node from the root html node\n",
    "tablenode = html_nodes(root_node, \"table\")\n",
    "tablenode"
   ]
  },
  {
   "cell_type": "markdown",
   "metadata": {},
   "source": [
    "Read the specific table from the multiple tables in the table node using the `html_table` function and convert it into dataframe using `as.data.frame`\n"
   ]
  },
  {
   "cell_type": "code",
   "execution_count": 70,
   "metadata": {},
   "outputs": [
    {
     "data": {
      "text/html": [
       "<table>\n",
       "<caption>A data.frame: 1 × 13</caption>\n",
       "<thead>\n",
       "\t<tr><th></th><th scope=col>X1</th><th scope=col>X2</th><th scope=col>Country.or.region</th><th scope=col>Date.a.</th><th scope=col>Tested</th><th scope=col>Units.b.</th><th scope=col>Confirmed.cases.</th><th scope=col>Confirmed..tested..</th><th scope=col>Tested..population..</th><th scope=col>Confirmed..population..</th><th scope=col>Ref.</th><th scope=col>X1.1</th><th scope=col>X2.1</th></tr>\n",
       "\t<tr><th></th><th scope=col>&lt;lgl&gt;</th><th scope=col>&lt;chr&gt;</th><th scope=col>&lt;chr&gt;</th><th scope=col>&lt;chr&gt;</th><th scope=col>&lt;chr&gt;</th><th scope=col>&lt;chr&gt;</th><th scope=col>&lt;chr&gt;</th><th scope=col>&lt;chr&gt;</th><th scope=col>&lt;chr&gt;</th><th scope=col>&lt;chr&gt;</th><th scope=col>&lt;chr&gt;</th><th scope=col>&lt;lgl&gt;</th><th scope=col>&lt;chr&gt;</th></tr>\n",
       "</thead>\n",
       "<tbody>\n",
       "\t<tr><th scope=row>1</th><td>NA</td><td>This template needs to be updated.  Please help update this template to reflect recent events or newly available information. Relevant discussion may be found on  the talk page.</td><td>Afghanistan</td><td>17 Dec 2020</td><td>154,767</td><td>samples</td><td>49,621</td><td>32.1</td><td>0.40</td><td>0.13</td><td>[1]</td><td>NA</td><td>This template uses TemplateStyles:\n",
       "Template:COVID-19 testing by country/styles.css</td></tr>\n",
       "</tbody>\n",
       "</table>\n"
      ],
      "text/latex": [
       "A data.frame: 1 × 13\n",
       "\\begin{tabular}{r|lllllllllllll}\n",
       "  & X1 & X2 & Country.or.region & Date.a. & Tested & Units.b. & Confirmed.cases. & Confirmed..tested.. & Tested..population.. & Confirmed..population.. & Ref. & X1.1 & X2.1\\\\\n",
       "  & <lgl> & <chr> & <chr> & <chr> & <chr> & <chr> & <chr> & <chr> & <chr> & <chr> & <chr> & <lgl> & <chr>\\\\\n",
       "\\hline\n",
       "\t1 & NA & This template needs to be updated.  Please help update this template to reflect recent events or newly available information. Relevant discussion may be found on  the talk page. & Afghanistan & 17 Dec 2020 & 154,767 & samples & 49,621 & 32.1 & 0.40 & 0.13 & {[}1{]} & NA & This template uses TemplateStyles:\n",
       "Template:COVID-19 testing by country/styles.css\\\\\n",
       "\\end{tabular}\n"
      ],
      "text/markdown": [
       "\n",
       "A data.frame: 1 × 13\n",
       "\n",
       "| <!--/--> | X1 &lt;lgl&gt; | X2 &lt;chr&gt; | Country.or.region &lt;chr&gt; | Date.a. &lt;chr&gt; | Tested &lt;chr&gt; | Units.b. &lt;chr&gt; | Confirmed.cases. &lt;chr&gt; | Confirmed..tested.. &lt;chr&gt; | Tested..population.. &lt;chr&gt; | Confirmed..population.. &lt;chr&gt; | Ref. &lt;chr&gt; | X1.1 &lt;lgl&gt; | X2.1 &lt;chr&gt; |\n",
       "|---|---|---|---|---|---|---|---|---|---|---|---|---|---|\n",
       "| 1 | NA | This template needs to be updated.  Please help update this template to reflect recent events or newly available information. Relevant discussion may be found on  the talk page. | Afghanistan | 17 Dec 2020 | 154,767 | samples | 49,621 | 32.1 | 0.40 | 0.13 | [1] | NA | This template uses TemplateStyles:\n",
       "Template:COVID-19 testing by country/styles.css |\n",
       "\n"
      ],
      "text/plain": [
       "  X1\n",
       "1 NA\n",
       "  X2                                                                                                                                                                               \n",
       "1 This template needs to be updated.  Please help update this template to reflect recent events or newly available information. Relevant discussion may be found on  the talk page.\n",
       "  Country.or.region Date.a.     Tested  Units.b. Confirmed.cases.\n",
       "1 Afghanistan       17 Dec 2020 154,767 samples  49,621          \n",
       "  Confirmed..tested.. Tested..population.. Confirmed..population.. Ref. X1.1\n",
       "1 32.1                0.40                 0.13                    [1]  NA  \n",
       "  X2.1                                                                               \n",
       "1 This template uses TemplateStyles:\\nTemplate:COVID-19 testing by country/styles.css"
      ]
     },
     "metadata": {},
     "output_type": "display_data"
    }
   ],
   "source": [
    "# Read the table node and convert it into a data frame, and print the data frame for review\n",
    "covid_dataframe = as.data.frame(html_table(tablenode))\n",
    "covid_dataframe[1,]"
   ]
  },
  {
   "cell_type": "markdown",
   "metadata": {},
   "source": [
    "## TASK 3: Pre-process and export the extracted data frame\n",
    "\n",
    "The goal of task 3 is to pre-process the extracted data frame from the previous step, and export it as a csv file\n"
   ]
  },
  {
   "cell_type": "markdown",
   "metadata": {},
   "source": [
    "Let's get a summary of the data frame\n"
   ]
  },
  {
   "cell_type": "code",
   "execution_count": 71,
   "metadata": {},
   "outputs": [
    {
     "data": {
      "text/plain": [
       "    X1               X2            Country.or.region    Date.a.         \n",
       " Mode:logical   Length:173         Length:173         Length:173        \n",
       " NA's:173       Class :character   Class :character   Class :character  \n",
       "                Mode  :character   Mode  :character   Mode  :character  \n",
       "    Tested            Units.b.         Confirmed.cases.   Confirmed..tested..\n",
       " Length:173         Length:173         Length:173         Length:173         \n",
       " Class :character   Class :character   Class :character   Class :character   \n",
       " Mode  :character   Mode  :character   Mode  :character   Mode  :character   \n",
       " Tested..population.. Confirmed..population..     Ref.             X1.1        \n",
       " Length:173           Length:173              Length:173         Mode:logical  \n",
       " Class :character     Class :character        Class :character   NA's:173      \n",
       " Mode  :character     Mode  :character        Mode  :character                 \n",
       "     X2.1          \n",
       " Length:173        \n",
       " Class :character  \n",
       " Mode  :character  "
      ]
     },
     "metadata": {},
     "output_type": "display_data"
    }
   ],
   "source": [
    "# Print the summary of the data frame\n",
    "covid_sum= summary(covid_dataframe)\n",
    "covid_sum"
   ]
  },
  {
   "cell_type": "markdown",
   "metadata": {},
   "source": [
    "As you can see from the summary, the columns names are little bit different to understand and some column data types are not correct. For example, the `Tested` column shows as `character`. \n",
    "\n",
    "As such, the data frame read from HTML table will need some pre-processing such as removing irrelvant columns, renaming columns, and convert columns into proper data types.\n"
   ]
  },
  {
   "cell_type": "markdown",
   "metadata": {},
   "source": [
    "We have prepared a pre-processing function for you to conver the data frame but you can also try to write one by yourself\n"
   ]
  },
  {
   "cell_type": "code",
   "execution_count": 24,
   "metadata": {},
   "outputs": [],
   "source": [
    "preprocess_covid_data_frame <- function(covid_dataframe) {\n",
    "    \n",
    "    shape <- dim(data_frame)\n",
    "\n",
    "    # Remove the World row\n",
    "   covid_dataframe<-covid_dataframe[!(data_frame$`Country or region`==\"World\"),]\n",
    "    # Remove the last row\n",
    "    data_frame <- data_frame[1:172, ]\n",
    "    \n",
    "    # We dont need the Units and Ref columns, so can be removed\n",
    "    data_frame[\"Ref.\"] <- NULL\n",
    "    data_frame[\"Units[b]\"] <- NULL\n",
    "    \n",
    "    # Renaming the columns\n",
    "    names(data_frame) <- c(\"country\", \"date\", \"tested\", \"confirmed\", \"confirmed.tested.ratio\", \"tested.population.ratio\", \"confirmed.population.ratio\")\n",
    "    \n",
    "    # Convert column data types\n",
    "    data_frame$country <- as.factor(data_frame$country)\n",
    "    data_frame$date <- as.factor(data_frame$date)\n",
    "    data_frame$tested <- as.numeric(gsub(\",\",\"\",data_frame$tested))\n",
    "    data_frame$confirmed <- as.numeric(gsub(\",\",\"\",data_frame$confirmed))\n",
    "    data_frame$'confirmed.tested.ratio' <- as.numeric(gsub(\",\",\"\",data_frame$`confirmed.tested.ratio`))\n",
    "    data_frame$'tested.population.ratio' <- as.numeric(gsub(\",\",\"\",data_frame$`tested.population.ratio`))\n",
    "    data_frame$'confirmed.population.ratio' <- as.numeric(gsub(\",\",\"\",data_frame$`confirmed.population.ratio`))\n",
    "    \n",
    "    return(data_frame)\n",
    "}\n",
    "\n"
   ]
  },
  {
   "cell_type": "code",
   "execution_count": 74,
   "metadata": {},
   "outputs": [],
   "source": [
    "preprocess_covid_data_frame <- function(covid_dataframe) {\n",
    "    \n",
    "    shape <- dim(covid_dataframe)\n",
    "\n",
    "    # Remove the World row\n",
    "    covid_dataframe<-covid_dataframe[!(covid_dataframe$`Country.or.region`==\"World\"),]\n",
    "    # Remove the last row\n",
    "    covid_dataframe <- covid_dataframe[1:172, ]\n",
    "    \n",
    "    # We dont need the Units and Ref columns, so can be removed\n",
    "    covid_dataframe[\"Ref.\"] <- NULL\n",
    "    covid_dataframe[\"Units.b.\"] <- NULL\n",
    "    \n",
    "    # Renaming the columns\n",
    "    names(covid_dataframe) <- c(\"country\", \"date\", \"tested\", \"confirmed\", \"confirmed.tested.ratio\", \"tested.population.ratio\", \"confirmed.population.ratio\")\n",
    "    \n",
    "    # Convert column data types\n",
    "    covid_dataframe$country <- as.factor(covid_dataframe$country)\n",
    "    covid_dataframe$date <- as.factor(covid_dataframe$date)\n",
    "    covid_dataframe$tested <- as.numeric(gsub(\",\",\"\",covid_dataframe$tested))\n",
    "    covid_dataframe$confirmed <- as.numeric(gsub(\",\",\"\",covid_dataframe$confirmed))\n",
    "    covid_dataframe$'confirmed.tested.ratio' <- as.numeric(gsub(\",\",\"\",covid_dataframe$`confirmed.tested.ratio`))\n",
    "    covid_dataframe$'tested.population.ratio' <- as.numeric(gsub(\",\",\"\",covid_dataframe$`tested.population.ratio`))\n",
    "    covid_dataframe$'confirmed.population.ratio' <- as.numeric(gsub(\",\",\"\",covid_dataframe$`confirmed.population.ratio`))\n",
    "    \n",
    "    return(covid_dataframe)\n",
    "}\n"
   ]
  },
  {
   "cell_type": "markdown",
   "metadata": {},
   "source": [
    "Call the `preprocess_covid_data_frame` function\n"
   ]
  },
  {
   "cell_type": "code",
   "execution_count": 75,
   "metadata": {},
   "outputs": [
    {
     "name": "stderr",
     "output_type": "stream",
     "text": [
      "Warning message in preprocess_covid_data_frame(covid_dataframe):\n",
      "“NAs introduced by coercion”Warning message in preprocess_covid_data_frame(covid_dataframe):\n",
      "“NAs introduced by coercion”"
     ]
    },
    {
     "data": {
      "text/html": [
       "<table>\n",
       "<caption>A data.frame: 1 × 11</caption>\n",
       "<thead>\n",
       "\t<tr><th></th><th scope=col>country</th><th scope=col>date</th><th scope=col>tested</th><th scope=col>confirmed</th><th scope=col>confirmed.tested.ratio</th><th scope=col>tested.population.ratio</th><th scope=col>confirmed.population.ratio</th><th scope=col>NA</th><th scope=col>NA</th><th scope=col>NA</th><th scope=col>NA</th></tr>\n",
       "\t<tr><th></th><th scope=col>&lt;fct&gt;</th><th scope=col>&lt;fct&gt;</th><th scope=col>&lt;dbl&gt;</th><th scope=col>&lt;dbl&gt;</th><th scope=col>&lt;dbl&gt;</th><th scope=col>&lt;dbl&gt;</th><th scope=col>&lt;dbl&gt;</th><th scope=col>&lt;chr&gt;</th><th scope=col>&lt;chr&gt;</th><th scope=col>&lt;lgl&gt;</th><th scope=col>&lt;chr&gt;</th></tr>\n",
       "</thead>\n",
       "<tbody>\n",
       "\t<tr><th scope=row>1</th><td>NA</td><td>This template needs to be updated.  Please help update this template to reflect recent events or newly available information. Relevant discussion may be found on  the talk page.</td><td>NA</td><td>NA</td><td>154767</td><td>49621</td><td>32.1</td><td>0.40</td><td>0.13</td><td>NA</td><td>This template uses TemplateStyles:\n",
       "Template:COVID-19 testing by country/styles.css</td></tr>\n",
       "</tbody>\n",
       "</table>\n"
      ],
      "text/latex": [
       "A data.frame: 1 × 11\n",
       "\\begin{tabular}{r|lllllllllll}\n",
       "  & country & date & tested & confirmed & confirmed.tested.ratio & tested.population.ratio & confirmed.population.ratio & NA & NA & NA & NA\\\\\n",
       "  & <fct> & <fct> & <dbl> & <dbl> & <dbl> & <dbl> & <dbl> & <chr> & <chr> & <lgl> & <chr>\\\\\n",
       "\\hline\n",
       "\t1 & NA & This template needs to be updated.  Please help update this template to reflect recent events or newly available information. Relevant discussion may be found on  the talk page. & NA & NA & 154767 & 49621 & 32.1 & 0.40 & 0.13 & NA & This template uses TemplateStyles:\n",
       "Template:COVID-19 testing by country/styles.css\\\\\n",
       "\\end{tabular}\n"
      ],
      "text/markdown": [
       "\n",
       "A data.frame: 1 × 11\n",
       "\n",
       "| <!--/--> | country &lt;fct&gt; | date &lt;fct&gt; | tested &lt;dbl&gt; | confirmed &lt;dbl&gt; | confirmed.tested.ratio &lt;dbl&gt; | tested.population.ratio &lt;dbl&gt; | confirmed.population.ratio &lt;dbl&gt; | NA &lt;chr&gt; | NA &lt;chr&gt; | NA &lt;lgl&gt; | NA &lt;chr&gt; |\n",
       "|---|---|---|---|---|---|---|---|---|---|---|---|\n",
       "| 1 | NA | This template needs to be updated.  Please help update this template to reflect recent events or newly available information. Relevant discussion may be found on  the talk page. | NA | NA | 154767 | 49621 | 32.1 | 0.40 | 0.13 | NA | This template uses TemplateStyles:\n",
       "Template:COVID-19 testing by country/styles.css |\n",
       "\n"
      ],
      "text/plain": [
       "  country\n",
       "1 NA     \n",
       "  date                                                                                                                                                                             \n",
       "1 This template needs to be updated.  Please help update this template to reflect recent events or newly available information. Relevant discussion may be found on  the talk page.\n",
       "  tested confirmed confirmed.tested.ratio tested.population.ratio\n",
       "1 NA     NA        154767                 49621                  \n",
       "  confirmed.population.ratio <NA> <NA> <NA>\n",
       "1 32.1                       0.40 0.13 NA  \n",
       "  <NA>                                                                               \n",
       "1 This template uses TemplateStyles:\\nTemplate:COVID-19 testing by country/styles.css"
      ]
     },
     "metadata": {},
     "output_type": "display_data"
    }
   ],
   "source": [
    "# call `preprocess_covid_data_frame` function and assign it to a new data frame\n",
    "covid_newdataframe = preprocess_covid_data_frame(covid_dataframe)\n",
    "covid_newdataframe[1,]"
   ]
  },
  {
   "cell_type": "markdown",
   "metadata": {},
   "source": [
    "Get the summary of the processed data frame again\n"
   ]
  },
  {
   "cell_type": "code",
   "execution_count": 76,
   "metadata": {},
   "outputs": [
    {
     "data": {
      "text/plain": [
       " country   \n",
       " NA's:172  \n",
       "           \n",
       "           \n",
       "           \n",
       "           \n",
       "           \n",
       "           \n",
       "                                                                                                                                                                                date    \n",
       " This template needs to be updated.  Please help update this template to reflect recent events or newly available information. Relevant discussion may be found on  the talk page.:172  \n",
       "                                                                                                                                                                                        \n",
       "                                                                                                                                                                                        \n",
       "                                                                                                                                                                                        \n",
       "                                                                                                                                                                                        \n",
       "                                                                                                                                                                                        \n",
       "                                                                                                                                                                                        \n",
       "     tested      confirmed   confirmed.tested.ratio tested.population.ratio\n",
       " Min.   : NA   Min.   : NA   Min.   :     3880      Min.   :       0       \n",
       " 1st Qu.: NA   1st Qu.: NA   1st Qu.:   512037      1st Qu.:   37839       \n",
       " Median : NA   Median : NA   Median :  3029859      Median :  281196       \n",
       " Mean   :NaN   Mean   :NaN   Mean   : 31353017      Mean   : 2507116       \n",
       " 3rd Qu.: NA   3rd Qu.: NA   3rd Qu.: 12386725      3rd Qu.: 1278105       \n",
       " Max.   : NA   Max.   : NA   Max.   :929349291      Max.   :90749469       \n",
       " NA's   :172   NA's   :172                                                 \n",
       " confirmed.population.ratio      NA                 NA           \n",
       " Min.   : 0.00              Length:172         Length:172        \n",
       " 1st Qu.: 5.00              Class :character   Class :character  \n",
       " Median :10.05              Mode  :character   Mode  :character  \n",
       " Mean   :11.25                                                   \n",
       " 3rd Qu.:15.25                                                   \n",
       " Max.   :46.80                                                   \n",
       "                                                                 \n",
       "    NA               NA           \n",
       " Mode:logical   Length:172        \n",
       " NA's:172       Class :character  \n",
       "                Mode  :character  \n",
       "                                  \n",
       "                                  \n",
       "                                  \n",
       "                                  "
      ]
     },
     "metadata": {},
     "output_type": "display_data"
    }
   ],
   "source": [
    "# Print the summary of the processed data frame again\n",
    "summary(covid_newdataframe)"
   ]
  },
  {
   "cell_type": "markdown",
   "metadata": {},
   "source": [
    "After pre-processing, you can see the columns and columns names are simplified, and columns types are converted into correct types.\n"
   ]
  },
  {
   "cell_type": "markdown",
   "metadata": {},
   "source": [
    "The data frame has following columns:\n",
    "\n",
    "- **country** - The name of the country\n",
    "- **date** - Reported date\n",
    "- **tested** - Total tested cases by the reported date\n",
    "- **confirmed** - Total confirmed cases by the reported date\n",
    "- **confirmed.tested.ratio** - The ratio of confirmed cases to the tested cases\n",
    "- **tested.population.ratio** - The ratio of tested cases to the population of the country\n",
    "- **confirmed.population.ratio** - The ratio of confirmed cases to the population of the country\n"
   ]
  },
  {
   "cell_type": "markdown",
   "metadata": {},
   "source": [
    "OK, we can call `write.csv()` function to save the csv file into a file. \n"
   ]
  },
  {
   "cell_type": "code",
   "execution_count": 77,
   "metadata": {},
   "outputs": [],
   "source": [
    "# Export the data frame to a csv file\n",
    "write.csv(covid_newdataframe, \"covid19.csv\")"
   ]
  },
  {
   "cell_type": "markdown",
   "metadata": {},
   "source": [
    "Note for IBM Waston Studio, there is no traditional \"hard disk\" associated with a R workspace.\n",
    "\n",
    "Even if you call `write.csv()` method to save the data frame as a csv file, it won't be shown in IBM Cloud Object Storage asset UI automatically.\n",
    "\n",
    "However, you may still check if the `covid.csv` exists using following code snippet:\n"
   ]
  },
  {
   "cell_type": "code",
   "execution_count": 78,
   "metadata": {},
   "outputs": [
    {
     "name": "stdout",
     "output_type": "stream",
     "text": [
      "[1] \"/resources/covid19.csv\"\n"
     ]
    },
    {
     "data": {
      "text/html": [
       "TRUE"
      ],
      "text/latex": [
       "TRUE"
      ],
      "text/markdown": [
       "TRUE"
      ],
      "text/plain": [
       "[1] TRUE"
      ]
     },
     "metadata": {},
     "output_type": "display_data"
    }
   ],
   "source": [
    "# Get working directory\n",
    "wd <- getwd()\n",
    "# Get exported \n",
    "file_path <- paste(wd, sep=\"\", \"/covid19.csv\")\n",
    "# File path\n",
    "print(file_path)\n",
    "file.exists(file_path)"
   ]
  },
  {
   "cell_type": "markdown",
   "metadata": {},
   "source": [
    "**Optional Step**: If you have difficulties finishing above webscraping tasks, you may still continue with next tasks by downloading a provided csv file from here:\n"
   ]
  },
  {
   "cell_type": "code",
   "execution_count": null,
   "metadata": {},
   "outputs": [],
   "source": [
    "## Download a sample csv file\n",
    "# covid_csv_file <- download.file(\"https://cf-courses-data.s3.us.cloud-object-storage.appdomain.cloud/IBMDeveloperSkillsNetwork-RP0101EN-Coursera/v2/dataset/covid.csv\", destfile=\"covid.csv\")\n",
    "# covid_data_frame_csv <- read.csv(\"covid.csv\", header=TRUE, sep=\",\")"
   ]
  },
  {
   "cell_type": "markdown",
   "metadata": {},
   "source": [
    "## TASK 4: Get a subset of the extracted data frame\n",
    "\n",
    "The goal of task 4 is to get the 5th to 10th rows from the data frame with only `country` and `confirmed` columns selected\n"
   ]
  },
  {
   "cell_type": "code",
   "execution_count": 80,
   "metadata": {},
   "outputs": [
    {
     "data": {
      "text/html": [
       "<table>\n",
       "<caption>A data.frame: 6 × 2</caption>\n",
       "<thead>\n",
       "\t<tr><th></th><th scope=col>country</th><th scope=col>confirmed</th></tr>\n",
       "\t<tr><th></th><th scope=col>&lt;lgl&gt;</th><th scope=col>&lt;lgl&gt;</th></tr>\n",
       "</thead>\n",
       "<tbody>\n",
       "\t<tr><th scope=row>5</th><td>NA</td><td>NA</td></tr>\n",
       "\t<tr><th scope=row>6</th><td>NA</td><td>NA</td></tr>\n",
       "\t<tr><th scope=row>7</th><td>NA</td><td>NA</td></tr>\n",
       "\t<tr><th scope=row>8</th><td>NA</td><td>NA</td></tr>\n",
       "\t<tr><th scope=row>9</th><td>NA</td><td>NA</td></tr>\n",
       "\t<tr><th scope=row>10</th><td>NA</td><td>NA</td></tr>\n",
       "</tbody>\n",
       "</table>\n"
      ],
      "text/latex": [
       "A data.frame: 6 × 2\n",
       "\\begin{tabular}{r|ll}\n",
       "  & country & confirmed\\\\\n",
       "  & <lgl> & <lgl>\\\\\n",
       "\\hline\n",
       "\t5 & NA & NA\\\\\n",
       "\t6 & NA & NA\\\\\n",
       "\t7 & NA & NA\\\\\n",
       "\t8 & NA & NA\\\\\n",
       "\t9 & NA & NA\\\\\n",
       "\t10 & NA & NA\\\\\n",
       "\\end{tabular}\n"
      ],
      "text/markdown": [
       "\n",
       "A data.frame: 6 × 2\n",
       "\n",
       "| <!--/--> | country &lt;lgl&gt; | confirmed &lt;lgl&gt; |\n",
       "|---|---|---|\n",
       "| 5 | NA | NA |\n",
       "| 6 | NA | NA |\n",
       "| 7 | NA | NA |\n",
       "| 8 | NA | NA |\n",
       "| 9 | NA | NA |\n",
       "| 10 | NA | NA |\n",
       "\n"
      ],
      "text/plain": [
       "   country confirmed\n",
       "5  NA      NA       \n",
       "6  NA      NA       \n",
       "7  NA      NA       \n",
       "8  NA      NA       \n",
       "9  NA      NA       \n",
       "10 NA      NA       "
      ]
     },
     "metadata": {},
     "output_type": "display_data"
    }
   ],
   "source": [
    "# Read covid_data_frame_csv from the csv file\n",
    "data = read.csv(\"covid19.csv\")\n",
    "\n",
    "# Get the 5th to 10th rows, with two \"country\" \"confirmed\" columns\n",
    "data[5:10,c('country', 'confirmed')]"
   ]
  },
  {
   "cell_type": "markdown",
   "metadata": {},
   "source": [
    "## TASK 5: Calculate worldwide COVID testing positive ratio\n",
    "\n",
    "The goal of task 5 is to get the total confirmed and tested cases worldwide, and try to figure the overall positive ratio using `confirmed cases / tested cases`\n"
   ]
  },
  {
   "cell_type": "code",
   "execution_count": 83,
   "metadata": {},
   "outputs": [
    {
     "ename": "ERROR",
     "evalue": "Error in FUN(X[[i]], ...): only defined on a data frame with all numeric variables\n",
     "execution_count": 83,
     "output_type": "error",
     "traceback": [
      "Error in FUN(X[[i]], ...): only defined on a data frame with all numeric variables\nTraceback:\n",
      "1. Summary.data.frame(structure(list(confirmed = c(NA, NA, NA, NA, \n . NA, NA, NA, NA, NA, NA, NA, NA, NA, NA, NA, NA, NA, NA, NA, NA, \n . NA, NA, NA, NA, NA, NA, NA, NA, NA, NA, NA, NA, NA, NA, NA, NA, \n . NA, NA, NA, NA, NA, NA, NA, NA, NA, NA, NA, NA, NA, NA, NA, NA, \n . NA, NA, NA, NA, NA, NA, NA, NA, NA, NA, NA, NA, NA, NA, NA, NA, \n . NA, NA, NA, NA, NA, NA, NA, NA, NA, NA, NA, NA, NA, NA, NA, NA, \n . NA, NA, NA, NA, NA, NA, NA, NA, NA, NA, NA, NA, NA, NA, NA, NA, \n . NA, NA, NA, NA, NA, NA, NA, NA, NA, NA, NA, NA, NA, NA, NA, NA, \n . NA, NA, NA, NA, NA, NA, NA, NA, NA, NA, NA, NA, NA, NA, NA, NA, \n . NA, NA, NA, NA, NA, NA, NA, NA, NA, NA, NA, NA, NA, NA, NA, NA, \n . NA, NA, NA, NA, NA, NA, NA, NA, NA, NA, NA, NA, NA, NA, NA, NA, \n . NA, NA, NA, NA, NA, NA, NA, NA)), row.names = c(NA, -172L), class = \"data.frame\"), \n .     na.rm = FALSE)",
      "2. lapply(args, function(x) {\n .     x <- as.matrix(x)\n .     if (!is.numeric(x) && !is.complex(x)) \n .         stop(\"only defined on a data frame with all numeric variables\")\n .     x\n . })",
      "3. FUN(X[[i]], ...)",
      "4. stop(\"only defined on a data frame with all numeric variables\")"
     ]
    }
   ],
   "source": [
    "# Get the total confirmed cases worldwide\n",
    "A = sum(data['confirmed'])\n",
    "# Get the total tested cases worldwide\n",
    "B= sum(data['tested'])\n",
    "\n",
    "# Get the positive ratio (confirmed / tested)\n",
    "ratio_positive = A/B\n"
   ]
  },
  {
   "cell_type": "markdown",
   "metadata": {},
   "source": [
    "## TASK 6: Get a country list which reported their testing data \n",
    "\n",
    "The goal of task 6 is to get a catalog or sorted list of countries who have reported their COVID-19 testing data\n"
   ]
  },
  {
   "cell_type": "code",
   "execution_count": null,
   "metadata": {},
   "outputs": [],
   "source": [
    "# Get the `country` column\n",
    "\n",
    "# Check its class (should be Factor)\n",
    "\n",
    "# Conver the country column into character so that you can easily sort them\n",
    "\n",
    "# Sort the countries AtoZ\n",
    "\n",
    "# Sort the countries ZtoA\n",
    "\n",
    "# Print the sorted ZtoA list\n"
   ]
  },
  {
   "cell_type": "markdown",
   "metadata": {},
   "source": [
    "## TASK 7: Identify countries names with a specific pattern\n",
    "\n",
    "The goal of task 7 is using a regular expression to find any countires start with `United`\n"
   ]
  },
  {
   "cell_type": "code",
   "execution_count": null,
   "metadata": {},
   "outputs": [],
   "source": [
    "# Use a regular expression `United.+` to find matches\n",
    "\n",
    "# Print the matched country names\n"
   ]
  },
  {
   "cell_type": "markdown",
   "metadata": {},
   "source": [
    "## TASK 8: Pick two countries you are interested, and then review their testing data\n",
    "\n",
    "The goal of task 8 is to compare the COVID-19 test data between two countires, you will need to select two rows from the dataframe, and select `country`, `confirmed`, `confirmed-population-ratio` columns\n"
   ]
  },
  {
   "cell_type": "code",
   "execution_count": null,
   "metadata": {},
   "outputs": [],
   "source": [
    "# Select a subset (should be only one row) of data frame based on a selected country name and columns\n",
    "\n",
    "\n",
    "# Select a subset (should be only one row) of data frame based on a selected country name and columns\n"
   ]
  },
  {
   "cell_type": "markdown",
   "metadata": {},
   "source": [
    "## TASK 9: Compare which one of the selected countries has a larger ratio of confirmed cases to population\n",
    "\n",
    "The goal of task 9 is to find out which country you have selected before has larger ratio of confirmed cases to population, which may indicate that country has higher COVID-19 infection risk\n"
   ]
  },
  {
   "cell_type": "code",
   "execution_count": null,
   "metadata": {},
   "outputs": [],
   "source": [
    "# Use if-else statement\n",
    "# if (check which confirmed.population value is greater) {\n",
    "#    print()\n",
    "# } else {\n",
    "#    print()\n",
    "# }\n"
   ]
  },
  {
   "cell_type": "markdown",
   "metadata": {},
   "source": [
    "## TASK 10: Find countries with confirmed to population ratio rate less than a threshold\n",
    "\n",
    "The goal of task 10 is to find out which countries have the confirmed to population ratio less than 1%, it may indicate the risk of those countries are relatively low\n"
   ]
  },
  {
   "cell_type": "code",
   "execution_count": null,
   "metadata": {},
   "outputs": [],
   "source": [
    "# Get a subset of any countries with `confirmed.population.ratio` less than the threshold\n"
   ]
  }
 ],
 "metadata": {
  "kernelspec": {
   "display_name": "R",
   "language": "R",
   "name": "conda-env-r-r"
  },
  "language_info": {
   "codemirror_mode": "r",
   "file_extension": ".r",
   "mimetype": "text/x-r-source",
   "name": "R",
   "pygments_lexer": "r",
   "version": "3.5.1"
  }
 },
 "nbformat": 4,
 "nbformat_minor": 4
}
